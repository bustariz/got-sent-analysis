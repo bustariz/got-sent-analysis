{
 "cells": [
  {
   "cell_type": "code",
   "execution_count": 1,
   "metadata": {},
   "outputs": [],
   "source": [
    "from vaderSentiment.vaderSentiment import SentimentIntensityAnalyzer\n",
    "import pandas as pd\n"
   ]
  },
  {
   "cell_type": "code",
   "execution_count": 2,
   "metadata": {},
   "outputs": [],
   "source": [
    "#   from vaderSentiment.vaderSentiment import SentimentIntensityAnalyzer\n",
    "    #note: depending on how you installed (e.g., using source code download versus pip install), you may need to import like this:\n",
    "    #from vaderSentiment import SentimentIntensityAnalyzer\n",
    "\n",
    "# --- examples -------\n",
    "# sentences = [\"Lord of the Seven Kingdoms and protector of the realm, I, Eddard of the House Stark, Lord of Winterfell and Warden of the North, sentence you to die.\",  # positive sentence example\n",
    "#              \"VADER is smart, handsome, and funny!\",  # punctuation emphasis handled correctly (sentiment intensity adjusted)\n",
    "#              \"VADER is very smart, handsome, and funny.\", # booster words handled correctly (sentiment intensity adjusted)\n",
    "#              \"VADER is VERY SMART, handsome, and FUNNY.\",  # emphasis for ALLCAPS handled\n",
    "#              \"VADER is VERY SMART, handsome, and FUNNY!!!\", # combination of signals - VADER appropriately adjusts intensity\n",
    "#              \"VADER is VERY SMART, uber handsome, and FRIGGIN FUNNY!!!\", # booster words & punctuation make this close to ceiling for score\n",
    "#              \"VADER is not smart, handsome, nor funny.\",  # negation sentence example\n",
    "#              \"The book was good.\",  # positive sentence\n",
    "#              \"At least it isn't a horrible book.\",  # negated negative sentence with contraction\n",
    "#              \"The book was only kind of good.\", # qualified positive sentence is handled correctly (intensity adjusted)\n",
    "#              \"The plot was good, but the characters are uncompelling and the dialog is not great.\", # mixed negation sentence\n",
    "#              \"Today SUX!\",  # negative slang with capitalization emphasis\n",
    "#              \"Today only kinda sux! But I'll get by, lol\", # mixed sentiment example with slang and constrastive conjunction \"but\"\n",
    "#              \"Make sure you :) or :D today!\",  # emoticons handled\n",
    "#              \"Catch utf-8 emoji such as such as 💘 and 💋 and 😁\",  # emojis handled\n",
    "#              \"Not bad at all\"  # Capitalized negation\n",
    "#              ]\n",
    "\n",
    "# analyzer = SentimentIntensityAnalyzer()\n",
    "# for sentence in sentences:\n",
    "#     vs = analyzer.polarity_scores(sentence)\n",
    "#     print(\"{:-<60} {}\".format(sentence, str(vs)))\n",
    "# #     print(f'{sentence}: ---- {vs}')"
   ]
  },
  {
   "cell_type": "code",
   "execution_count": 37,
   "metadata": {},
   "outputs": [
    {
     "data": {
      "text/plain": [
       "[\"The strong live and the weak don't.: {'neg': 0.259, 'neu': 0.446, 'pos': 0.295, 'compound': 0.1027}\",\n",
       " \"Find the best builders and set them to the task.: {'neg': 0.0, 'neu': 0.682, 'pos': 0.318, 'compound': 0.6369}\",\n",
       " \"Oh, speaking of builders, all the best brothels burned down. The Master of Coin is willing to fund reconstruction.: {'neg': 0.0, 'neu': 0.811, 'pos': 0.189, 'compound': 0.6369}\",\n",
       " \"Uh... the Archmaester is less than enthusiastic about the salutary effects of brothels.: {'neg': 0.0, 'neu': 0.804, 'pos': 0.196, 'compound': 0.4445}\",\n",
       " \"Well, I imagine he isn't using them properly.: {'neg': 0.0, 'neu': 0.769, 'pos': 0.231, 'compound': 0.2732}\",\n",
       " \"I think we can all agree that ships take precedence over brothels.: {'neg': 0.0, 'neu': 0.815, 'pos': 0.185, 'compound': 0.3612}\",\n",
       " \"I think that's a very presumptuous statement.: {'neg': 0.0, 'neu': 1.0, 'pos': 0.0, 'compound': 0.0}\",\n",
       " \"I once brought a jackass and a honeycomb into a brothel.: {'neg': 0.219, 'neu': 0.781, 'pos': 0.0, 'compound': -0.4215}\",\n",
       " \"The Queen in the North!: {'neg': 0.0, 'neu': 1.0, 'pos': 0.0, 'compound': 0.0}\",\n",
       " \"The Queen in the North! The Queen in the North! The Queen in the North! The Queen in the North! The Queen in the North!: {'neg': 0.0, 'neu': 1.0, 'pos': 0.0, 'compound': 0.0}\"]"
      ]
     },
     "execution_count": 37,
     "metadata": {},
     "output_type": "execute_result"
    }
   ],
   "source": [
    "path = 'Game_of_Thrones_Script.csv'\n",
    "\n",
    "\n",
    "\n",
    "data = pd.read_csv(path)\n",
    "\n",
    "\n",
    "sentences = data.Sentence.tail(10)\n",
    "\n",
    "\n",
    "analyzer = SentimentIntensityAnalyzer()\n",
    "\n",
    "vs = [{analyzer.polarity_scores(sentence)} for sentence in sentences]\n",
    "\n",
    "# list comprehension to extract only compound value or maybe extract each score into a separate list to add to df\n",
    "compound_values = [values for key,value]\n",
    "vs"
   ]
  },
  {
   "cell_type": "code",
   "execution_count": null,
   "metadata": {},
   "outputs": [],
   "source": []
  }
 ],
 "metadata": {
  "kernelspec": {
   "display_name": "Python 3",
   "language": "python",
   "name": "python3"
  },
  "language_info": {
   "codemirror_mode": {
    "name": "ipython",
    "version": 3
   },
   "file_extension": ".py",
   "mimetype": "text/x-python",
   "name": "python",
   "nbconvert_exporter": "python",
   "pygments_lexer": "ipython3",
   "version": "3.8.2"
  }
 },
 "nbformat": 4,
 "nbformat_minor": 4
}
